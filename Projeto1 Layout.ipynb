{
 "cells": [
  {
   "cell_type": "markdown",
   "metadata": {},
   "source": [
    "___\n",
    "# Ciência dos Dados - PROJETO 1"
   ]
  },
  {
   "cell_type": "markdown",
   "metadata": {},
   "source": [
    "## Matheus Augusto Soares\n",
    "___"
   ]
  },
  {
   "cell_type": "markdown",
   "metadata": {},
   "source": [
    "## Renda ou tipo de moradia?Oque influencia mais para a pessoa possuir internet e telefone fixo?"
   ]
  },
  {
   "cell_type": "markdown",
   "metadata": {},
   "source": [
    "___\n",
    "## Introdução\n",
    "Por meio desta análise tenho como objetivo mostrar como a a internet banda larga possuiu um grande crescimento estando cada vez mais em diversas casas ao contrario da rede telefônica fixa que cada vez perdeu mais espaço.\n",
    "E também demonstrar que a baixa renda se mostra um obstáculo a mais para a rede telefônica fixa, mas não para a internet, considerando que grande parte da população de baixa renda ainda possui esse tipo de acesso a rede."
   ]
  },
  {
   "cell_type": "markdown",
   "metadata": {},
   "source": [
    "___\n",
    "## Análise e Resultados"
   ]
  },
  {
   "cell_type": "code",
   "execution_count": 2,
   "metadata": {},
   "outputs": [
    {
     "name": "stderr",
     "output_type": "stream",
     "text": [
      "C:\\Users\\mathe\\Anaconda3\\lib\\site-packages\\pandas\\core\\generic.py:2999: SettingWithCopyWarning: \n",
      "A value is trying to be set on a copy of a slice from a DataFrame.\n",
      "Try using .loc[row_indexer,col_indexer] = value instead\n",
      "\n",
      "See the caveats in the documentation: http://pandas.pydata.org/pandas-docs/stable/indexing.html#indexing-view-versus-copy\n",
      "  self[name] = value\n"
     ]
    },
    {
     "data": {
      "text/html": [
       "<div>\n",
       "<style>\n",
       "    .dataframe thead tr:only-child th {\n",
       "        text-align: right;\n",
       "    }\n",
       "\n",
       "    .dataframe thead th {\n",
       "        text-align: left;\n",
       "    }\n",
       "\n",
       "    .dataframe tbody tr th {\n",
       "        vertical-align: top;\n",
       "    }\n",
       "</style>\n",
       "<table border=\"1\" class=\"dataframe\">\n",
       "  <thead>\n",
       "    <tr style=\"text-align: right;\">\n",
       "      <th></th>\n",
       "      <th>V0207</th>\n",
       "      <th>V2020</th>\n",
       "      <th>V02426</th>\n",
       "      <th>V4621</th>\n",
       "    </tr>\n",
       "  </thead>\n",
       "  <tbody>\n",
       "    <tr>\n",
       "      <th>2</th>\n",
       "      <td>Alugado</td>\n",
       "      <td>Não</td>\n",
       "      <td>Sim</td>\n",
       "      <td>1150.0</td>\n",
       "    </tr>\n",
       "    <tr>\n",
       "      <th>3</th>\n",
       "      <td>Próprio-Já Pago</td>\n",
       "      <td>Sim</td>\n",
       "      <td>Sim</td>\n",
       "      <td>793.0</td>\n",
       "    </tr>\n",
       "    <tr>\n",
       "      <th>5</th>\n",
       "      <td>Próprio-Já Pago</td>\n",
       "      <td>Sim</td>\n",
       "      <td>Sim</td>\n",
       "      <td>1990.0</td>\n",
       "    </tr>\n",
       "    <tr>\n",
       "      <th>8</th>\n",
       "      <td>Alugado</td>\n",
       "      <td>Sim</td>\n",
       "      <td>Sim</td>\n",
       "      <td>818.0</td>\n",
       "    </tr>\n",
       "    <tr>\n",
       "      <th>10</th>\n",
       "      <td>Próprio-Já Pago</td>\n",
       "      <td>Sim</td>\n",
       "      <td>Sim</td>\n",
       "      <td>1716.0</td>\n",
       "    </tr>\n",
       "  </tbody>\n",
       "</table>\n",
       "</div>"
      ],
      "text/plain": [
       "              V0207 V2020 V02426   V4621\n",
       "2           Alugado   Não    Sim  1150.0\n",
       "3   Próprio-Já Pago   Sim    Sim   793.0\n",
       "5   Próprio-Já Pago   Sim    Sim  1990.0\n",
       "8           Alugado   Sim    Sim   818.0\n",
       "10  Próprio-Já Pago   Sim    Sim  1716.0"
      ]
     },
     "execution_count": 2,
     "metadata": {},
     "output_type": "execute_result"
    }
   ],
   "source": [
    "#Imports\n",
    "%matplotlib inline\n",
    "import pandas as pd\n",
    "import matplotlib.pyplot as plt\n",
    "import numpy as np\n",
    "import os\n",
    "\n",
    "#Renda ou tipo de moradia?Oque influencia mais para a pessoa possuir internet e telefone fixo?\n",
    "#Definindo dataframes \n",
    "dados = pd.read_csv('DOM2015.csv',sep=',')\n",
    "dados.head()\n",
    "\n",
    "df1=dados.loc[:,['V0207','V2020','V02426','V4621']]\n",
    "\n",
    "#df1.dropna()\n",
    "df2=df1.dropna(how='any')\n",
    "#df1.dropna(subset=['V0207','V2020','V02426','V4621'])\n",
    "\n",
    "df2.V0207= df2.V0207.astype('category')\n",
    "df2.V2020 =df2.V2020.astype('category')\n",
    "df2.V02426 = df2.V02426.astype('category')\n",
    "df2.V4621 = df2.V4621.astype('float')\n",
    "\n",
    "df2.V0207.cat.categories = ('Próprio-Já Pago','Próprio-Ainda Pagando','Alugado','Cedido por Empregador','Cedido de outra forma',\"\",)\n",
    "df2.V2020.cat.categories = ('Sim', 'Não')\n",
    "df2.V02426.cat.categories = ('Sim', 'Não')\n",
    "\n",
    "#V0207=Condiçao do domicílio\n",
    "#V2020=Tem telefone fixo\n",
    "#V02426=Acesso a internet via banda larga \n",
    "#V4621=Renda per capita domiciliar\n",
    "\n",
    "df2.head()\n",
    "\n"
   ]
  },
  {
   "cell_type": "code",
   "execution_count": 3,
   "metadata": {},
   "outputs": [
    {
     "name": "stdout",
     "output_type": "stream",
     "text": [
      "Tabela Cruzada % Telefone Fixo:\n"
     ]
    },
    {
     "data": {
      "text/html": [
       "<div>\n",
       "<style>\n",
       "    .dataframe thead tr:only-child th {\n",
       "        text-align: right;\n",
       "    }\n",
       "\n",
       "    .dataframe thead th {\n",
       "        text-align: left;\n",
       "    }\n",
       "\n",
       "    .dataframe tbody tr th {\n",
       "        vertical-align: top;\n",
       "    }\n",
       "</style>\n",
       "<table border=\"1\" class=\"dataframe\">\n",
       "  <thead>\n",
       "    <tr style=\"text-align: right;\">\n",
       "      <th>Possui?</th>\n",
       "      <th>Sim</th>\n",
       "      <th>Não</th>\n",
       "    </tr>\n",
       "    <tr>\n",
       "      <th>Tipo de casa</th>\n",
       "      <th></th>\n",
       "      <th></th>\n",
       "    </tr>\n",
       "  </thead>\n",
       "  <tbody>\n",
       "    <tr>\n",
       "      <th>Próprio-Já Pago</th>\n",
       "      <td>22714</td>\n",
       "      <td>23618</td>\n",
       "    </tr>\n",
       "    <tr>\n",
       "      <th>Próprio-Ainda Pagando</th>\n",
       "      <td>2125</td>\n",
       "      <td>2151</td>\n",
       "    </tr>\n",
       "    <tr>\n",
       "      <th>Alugado</th>\n",
       "      <td>4107</td>\n",
       "      <td>9515</td>\n",
       "    </tr>\n",
       "    <tr>\n",
       "      <th>Cedido por Empregador</th>\n",
       "      <td>174</td>\n",
       "      <td>529</td>\n",
       "    </tr>\n",
       "    <tr>\n",
       "      <th>Cedido de outra forma</th>\n",
       "      <td>884</td>\n",
       "      <td>1872</td>\n",
       "    </tr>\n",
       "    <tr>\n",
       "      <th></th>\n",
       "      <td>59</td>\n",
       "      <td>86</td>\n",
       "    </tr>\n",
       "    <tr>\n",
       "      <th>All</th>\n",
       "      <td>30063</td>\n",
       "      <td>37771</td>\n",
       "    </tr>\n",
       "  </tbody>\n",
       "</table>\n",
       "</div>"
      ],
      "text/plain": [
       "Possui?                  Sim    Não\n",
       "Tipo de casa                       \n",
       "Próprio-Já Pago        22714  23618\n",
       "Próprio-Ainda Pagando   2125   2151\n",
       "Alugado                 4107   9515\n",
       "Cedido por Empregador    174    529\n",
       "Cedido de outra forma    884   1872\n",
       "                          59     86\n",
       "All                    30063  37771"
      ]
     },
     "execution_count": 3,
     "metadata": {},
     "output_type": "execute_result"
    }
   ],
   "source": [
    "print('Tabela Cruzada % Telefone Fixo:')\n",
    "ct=pd.crosstab(df2.V0207,df2.V2020,margins=True,rownames=['Tipo de casa'], colnames=['Possui?'])\n",
    "ct=ct.iloc[:,:2]\n",
    "\n",
    "ct"
   ]
  },
  {
   "cell_type": "code",
   "execution_count": 21,
   "metadata": {},
   "outputs": [
    {
     "data": {
      "text/plain": [
       "<matplotlib.text.Text at 0x22c0a099898>"
      ]
     },
     "execution_count": 21,
     "metadata": {},
     "output_type": "execute_result"
    },
    {
     "data": {
      "image/png": "[encoded data removed]",
      "text/plain": [
       "<matplotlib.figure.Figure at 0x22c09ff7438>"
      ]
     },
     "metadata": {},
     "output_type": "display_data"
    }
   ],
   "source": [
    "plot = ct.iloc[0:5,].plot(kind='bar')\n",
    "plt.ylabel('Valores absolutos')"
   ]
  },
  {
   "cell_type": "code",
   "execution_count": 5,
   "metadata": {},
   "outputs": [
    {
     "name": "stdout",
     "output_type": "stream",
     "text": [
      "Tabela Cruzada % Internet Banda Larga:\n"
     ]
    },
    {
     "data": {
      "text/html": [
       "<div>\n",
       "<style>\n",
       "    .dataframe thead tr:only-child th {\n",
       "        text-align: right;\n",
       "    }\n",
       "\n",
       "    .dataframe thead th {\n",
       "        text-align: left;\n",
       "    }\n",
       "\n",
       "    .dataframe tbody tr th {\n",
       "        vertical-align: top;\n",
       "    }\n",
       "</style>\n",
       "<table border=\"1\" class=\"dataframe\">\n",
       "  <thead>\n",
       "    <tr style=\"text-align: right;\">\n",
       "      <th>Possui internet banda larga?</th>\n",
       "      <th>Sim</th>\n",
       "      <th>Não</th>\n",
       "    </tr>\n",
       "    <tr>\n",
       "      <th>Tipo de casa</th>\n",
       "      <th></th>\n",
       "      <th></th>\n",
       "    </tr>\n",
       "  </thead>\n",
       "  <tbody>\n",
       "    <tr>\n",
       "      <th>Próprio-Já Pago</th>\n",
       "      <td>32875</td>\n",
       "      <td>13457</td>\n",
       "    </tr>\n",
       "    <tr>\n",
       "      <th>Próprio-Ainda Pagando</th>\n",
       "      <td>3384</td>\n",
       "      <td>892</td>\n",
       "    </tr>\n",
       "    <tr>\n",
       "      <th>Alugado</th>\n",
       "      <td>8749</td>\n",
       "      <td>4873</td>\n",
       "    </tr>\n",
       "    <tr>\n",
       "      <th>Cedido por Empregador</th>\n",
       "      <td>382</td>\n",
       "      <td>321</td>\n",
       "    </tr>\n",
       "    <tr>\n",
       "      <th>Cedido de outra forma</th>\n",
       "      <td>1724</td>\n",
       "      <td>1032</td>\n",
       "    </tr>\n",
       "    <tr>\n",
       "      <th></th>\n",
       "      <td>95</td>\n",
       "      <td>50</td>\n",
       "    </tr>\n",
       "    <tr>\n",
       "      <th>All</th>\n",
       "      <td>47209</td>\n",
       "      <td>20625</td>\n",
       "    </tr>\n",
       "  </tbody>\n",
       "</table>\n",
       "</div>"
      ],
      "text/plain": [
       "Possui internet banda larga?    Sim    Não\n",
       "Tipo de casa                              \n",
       "Próprio-Já Pago               32875  13457\n",
       "Próprio-Ainda Pagando          3384    892\n",
       "Alugado                        8749   4873\n",
       "Cedido por Empregador           382    321\n",
       "Cedido de outra forma          1724   1032\n",
       "                                 95     50\n",
       "All                           47209  20625"
      ]
     },
     "execution_count": 5,
     "metadata": {},
     "output_type": "execute_result"
    }
   ],
   "source": [
    "print('Tabela Cruzada % Internet Banda Larga:')\n",
    "ct1=pd.crosstab(df2.V0207,df2.V02426,margins=True,rownames=['Tipo de casa'], colnames=['Possui internet banda larga?'])\n",
    "ct1=ct1.iloc[:,:2]\n",
    "\n",
    "ct1"
   ]
  },
  {
   "cell_type": "code",
   "execution_count": 20,
   "metadata": {},
   "outputs": [
    {
     "data": {
      "text/plain": [
       "<matplotlib.text.Text at 0x22c09e57dd8>"
      ]
     },
     "execution_count": 20,
     "metadata": {},
     "output_type": "execute_result"
    },
    {
     "data": {
      "image/png": "[encoded data removed]",
      "text/plain": [
       "<matplotlib.figure.Figure at 0x22c09e068d0>"
      ]
     },
     "metadata": {},
     "output_type": "display_data"
    }
   ],
   "source": [
    "plot = ct1.iloc[0:5,].plot(kind='bar')\n",
    "plt.ylabel('Valores absolutos')"
   ]
  },
  {
   "cell_type": "code",
   "execution_count": 10,
   "metadata": {},
   "outputs": [
    {
     "name": "stderr",
     "output_type": "stream",
     "text": [
      "C:\\Users\\mathe\\Anaconda3\\lib\\site-packages\\ipykernel_launcher.py:15: SettingWithCopyWarning: \n",
      "A value is trying to be set on a copy of a slice from a DataFrame.\n",
      "Try using .loc[row_indexer,col_indexer] = value instead\n",
      "\n",
      "See the caveats in the documentation: http://pandas.pydata.org/pandas-docs/stable/indexing.html#indexing-view-versus-copy\n",
      "  from ipykernel import kernelapp as app\n",
      "C:\\Users\\mathe\\Anaconda3\\lib\\site-packages\\pandas\\core\\generic.py:2999: SettingWithCopyWarning: \n",
      "A value is trying to be set on a copy of a slice from a DataFrame.\n",
      "Try using .loc[row_indexer,col_indexer] = value instead\n",
      "\n",
      "See the caveats in the documentation: http://pandas.pydata.org/pandas-docs/stable/indexing.html#indexing-view-versus-copy\n",
      "  self[name] = value\n"
     ]
    }
   ],
   "source": [
    "def faixasph(df2):\n",
    "    x=df2['V4621']\n",
    "    if x<100: return 1\n",
    "    elif x<200: return 2\n",
    "    elif x<300: return 3\n",
    "    elif x<400: return 4\n",
    "    elif x<500: return 5\n",
    "    elif x<600: return 6\n",
    "    elif x<700: return 7\n",
    "    elif x<800: return 8\n",
    "    elif x<900: return 9\n",
    "    elif x<1000: return 10\n",
    "    return 11\n",
    "faixas=df2.apply(faixasph,axis=1)\n",
    "df2['faixas']=faixas\n",
    "df2.faixas=df2.faixas.astype('category')\n",
    "df2.faixas.cat.categories=(['100','200','300','400','500','600','700','800','900','1000','+1000'])\n",
    "\n",
    "\n"
   ]
  },
  {
   "cell_type": "code",
   "execution_count": 11,
   "metadata": {},
   "outputs": [
    {
     "name": "stderr",
     "output_type": "stream",
     "text": [
      "C:\\Users\\mathe\\Anaconda3\\lib\\site-packages\\ipykernel_launcher.py:1: SettingWithCopyWarning: \n",
      "A value is trying to be set on a copy of a slice from a DataFrame.\n",
      "Try using .loc[row_indexer,col_indexer] = value instead\n",
      "\n",
      "See the caveats in the documentation: http://pandas.pydata.org/pandas-docs/stable/indexing.html#indexing-view-versus-copy\n",
      "  \"\"\"Entry point for launching an IPython kernel.\n"
     ]
    },
    {
     "data": {
      "text/plain": [
       "<matplotlib.text.Text at 0x22c09a6c6a0>"
      ]
     },
     "execution_count": 11,
     "metadata": {},
     "output_type": "execute_result"
    },
    {
     "data": {
      "image/png": "[encoded data removed]",
      "text/plain": [
       "<matplotlib.figure.Figure at 0x22c095b5898>"
      ]
     },
     "metadata": {},
     "output_type": "display_data"
    }
   ],
   "source": [
    "df2['Internet_Banda_Larga']=df2.V02426\n",
    "ph=pd.crosstab(df2.faixas,df2.Internet_Banda_Larga,normalize='index')\n",
    "ph.plot(kind='bar',stacked='True',legend=['Sim','Nao'],title='Possui Internet Banda Larga',figsize=(7,7))\n",
    "plt.ylabel('%')\n",
    "plt.xlabel('Renda em centena')"
   ]
  },
  {
   "cell_type": "code",
   "execution_count": 14,
   "metadata": {},
   "outputs": [
    {
     "name": "stderr",
     "output_type": "stream",
     "text": [
      "C:\\Users\\mathe\\Anaconda3\\lib\\site-packages\\ipykernel_launcher.py:1: SettingWithCopyWarning: \n",
      "A value is trying to be set on a copy of a slice from a DataFrame.\n",
      "Try using .loc[row_indexer,col_indexer] = value instead\n",
      "\n",
      "See the caveats in the documentation: http://pandas.pydata.org/pandas-docs/stable/indexing.html#indexing-view-versus-copy\n",
      "  \"\"\"Entry point for launching an IPython kernel.\n"
     ]
    },
    {
     "data": {
      "text/plain": [
       "<matplotlib.text.Text at 0x22c09ad29e8>"
      ]
     },
     "execution_count": 14,
     "metadata": {},
     "output_type": "execute_result"
    },
    {
     "data": {
      "image/png": "[encoded data removed]",
      "text/plain": [
       "<matplotlib.figure.Figure at 0x22c093f2320>"
      ]
     },
     "metadata": {},
     "output_type": "display_data"
    }
   ],
   "source": [
    "df2['Telefone_fixo']=df2.V2020\n",
    "ph=pd.crosstab(df2.faixas,df2.Telefoneixo,normalize='index')\n",
    "ph.plot(kind='bar',stacked='True',legend=['Sim','Nao'],title='Possui Telefone fixo',figsize=(7,7))\n",
    "plt.ylabel('%')\n",
    "plt.xlabel('Renda em centena')"
   ]
  },
  {
   "cell_type": "code",
   "execution_count": 17,
   "metadata": {},
   "outputs": [],
   "source": [
    "df2.to_csv('projeto1.csv')"
   ]
  },
  {
   "cell_type": "markdown",
   "metadata": {},
   "source": [
    "## Conclusão\n"
   ]
  },
  {
   "cell_type": "markdown",
   "metadata": {
    "collapsed": true
   },
   "source": [
    "Após gerar os gráficos foi possível observar um comportamento próximo do que era esperado, uma vez que considerando a renda e o tipo de moradia, a população que possuía acesso a internet via banda larga ainda era uma grande parcela, onde numa vista mais detalhada é possível dizer que o tipo de moradia não interfere tanto no acesso a rede, porém ja com a renda a porcentagem de pessoas com acesso diminui, mesmo ainda sendo uma grande parte. Em relação ao telefone fixo é possível observar que seu uso pode não estar sendo considerado uma prioridade, pois o gráfico das moradias demonstra que mais da metade não utiliza o telefone fixo e de acordo com a renda quanto menor ela é menor é o uso do telefone fixo.\n"
   ]
  },
  {
   "cell_type": "code",
   "execution_count": null,
   "metadata": {
    "collapsed": true
   },
   "outputs": [],
   "source": []
  }
 ],
 "metadata": {
  "anaconda-cloud": {},
  "kernelspec": {
   "display_name": "Python 3",
   "language": "python",
   "name": "python3"
  },
  "language_info": {
   "codemirror_mode": {
    "name": "ipython",
    "version": 3
   },
   "file_extension": ".py",
   "mimetype": "text/x-python",
   "name": "python",
   "nbconvert_exporter": "python",
   "pygments_lexer": "ipython3",
   "version": "3.6.1"
  }
 },
 "nbformat": 4,
 "nbformat_minor": 1
}
